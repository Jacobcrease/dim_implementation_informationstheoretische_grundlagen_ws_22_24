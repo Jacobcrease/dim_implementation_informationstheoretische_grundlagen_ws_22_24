{
 "cells": [
  {
   "cell_type": "code",
   "execution_count": 1,
   "metadata": {},
   "outputs": [],
   "source": [
    "import tensorflow as tf\n",
    "\n",
    "# Workaround for Pylance\n",
    "keras = tf.keras"
   ]
  },
  {
   "cell_type": "code",
   "execution_count": 2,
   "metadata": {},
   "outputs": [],
   "source": [
    "model_pathes = [\n",
    "    \"./models/dim_encoder-g1_0-l0_0-p1_0\",\n",
    "    \"./models/dim_encoder-g0_0-l1_0-p0_1\",\n",
    "    \"./models/dim_encoder-g0_6-l0_4-p0_0\",\n",
    "    \"./models/dim_encoder-g0_6-l0_4-p0_2\",\n",
    "]"
   ]
  },
  {
   "cell_type": "code",
   "execution_count": 3,
   "metadata": {},
   "outputs": [],
   "source": [
    "global_dim = keras.models.load_model(model_pathes[0])\n",
    "local_dim = keras.models.load_model(model_pathes[1])\n",
    "mixed_dim = keras.models.load_model(model_pathes[2])\n",
    "completed_dim = keras.models.load_model(model_pathes[3])"
   ]
  },
  {
   "cell_type": "code",
   "execution_count": 4,
   "metadata": {},
   "outputs": [],
   "source": [
    "# Prepare the training dataset.\n",
    "batch_size = 64\n",
    "(x_train, y_train), (x_test, y_test) = keras.datasets.mnist.load_data()\n",
    "x_train = x_train.reshape(x_train.shape[0], 28, 28, 1).astype(\"float32\")\n",
    "x_test = x_test.reshape(x_test.shape[0], 28, 28, 1).astype(\"float32\")\n",
    "\n",
    "# Reserve 10,000 samples for validation.\n",
    "x_val = x_train[-10000:]\n",
    "y_val = y_train[-10000:]\n",
    "x_train = x_train[:-10000]\n",
    "y_train = y_train[:-10000]\n",
    "\n",
    "# Prepare the training dataset.\n",
    "train_dataset = tf.data.Dataset.from_tensor_slices((x_train, y_train))\n",
    "train_dataset = train_dataset.shuffle(buffer_size=1024).batch(batch_size)\n",
    "\n",
    "# Prepare the validation dataset.\n",
    "val_dataset = tf.data.Dataset.from_tensor_slices((x_val, y_val))\n",
    "val_dataset = val_dataset.batch(batch_size)"
   ]
  },
  {
   "cell_type": "code",
   "execution_count": 5,
   "metadata": {},
   "outputs": [],
   "source": [
    "def make_classifier(encoder):\n",
    "    # Get model\n",
    "    encoder_input = keras.layers.Input(shape=(28, 28, 1), name=\"image\")\n",
    "    (_, global_features) = encoder(encoder_input, training=False)\n",
    "    x = keras.layers.Dense(64, activation=\"relu\", name=\"dense_1\")(global_features)\n",
    "    x = keras.layers.Dense(64, activation=\"relu\", name=\"dense_2\")(x)\n",
    "    outputs = keras.layers.Dense(10, name=\"predictions\")(x)\n",
    "    model = keras.Model(inputs=encoder_input, outputs=outputs)\n",
    "    return model\n",
    "\n",
    "\n",
    "# Instantiate an optimizer to train the model.\n",
    "optimizer = keras.optimizers.SGD(learning_rate=1e-3)\n",
    "# Instantiate a loss function.\n",
    "loss_fn = keras.losses.SparseCategoricalCrossentropy(from_logits=True)\n",
    "\n",
    "# Prepare the metrics.\n",
    "train_acc_metric = keras.metrics.SparseCategoricalAccuracy()\n",
    "val_acc_metric = keras.metrics.SparseCategoricalAccuracy()"
   ]
  },
  {
   "cell_type": "code",
   "execution_count": 6,
   "metadata": {},
   "outputs": [],
   "source": [
    "classifier = make_classifier(completed_dim)"
   ]
  },
  {
   "cell_type": "code",
   "execution_count": 7,
   "metadata": {},
   "outputs": [],
   "source": [
    "@tf.function\n",
    "def train_step(x, y):\n",
    "    with tf.GradientTape() as tape:\n",
    "        logits = classifier(x, training=True)\n",
    "        loss_value = loss_fn(y, logits)\n",
    "    grads = tape.gradient(loss_value, classifier.trainable_weights)\n",
    "    optimizer.apply_gradients(zip(grads, classifier.trainable_weights))\n",
    "    train_acc_metric.update_state(y, logits)\n",
    "    return loss_value\n",
    "\n",
    "\n",
    "@tf.function\n",
    "def test_step(x, y):\n",
    "    val_logits = classifier(x, training=False)\n",
    "    val_acc_metric.update_state(y, val_logits)"
   ]
  },
  {
   "cell_type": "code",
   "execution_count": 8,
   "metadata": {},
   "outputs": [
    {
     "name": "stdout",
     "output_type": "stream",
     "text": [
      "\n",
      "Start of epoch 0\n",
      "------------------------------------\n",
      "Training acc over epoch: 0.8019\n",
      "------------------------------------\n",
      "Validation acc: 0.8761\n",
      "Time taken: 9.67s\n",
      "------------------------------------\n",
      "\n",
      "Start of epoch 1\n",
      "------------------------------------\n",
      "Training acc over epoch: 0.9184\n",
      "------------------------------------\n",
      "Validation acc: 0.9189\n",
      "Time taken: 8.81s\n",
      "------------------------------------\n",
      "\n",
      "Start of epoch 2\n",
      "------------------------------------\n",
      "Training acc over epoch: 0.9404\n",
      "------------------------------------\n",
      "Validation acc: 0.9490\n",
      "Time taken: 8.87s\n",
      "------------------------------------\n"
     ]
    }
   ],
   "source": [
    "import time\n",
    "\n",
    "epochs = 3\n",
    "for epoch in range(epochs):\n",
    "    print(\"\\nStart of epoch %d\" % (epoch,))\n",
    "    start_time = time.time()\n",
    "\n",
    "    # Iterate over the batches of the dataset.\n",
    "    for step, (x_batch_train, y_batch_train) in enumerate(train_dataset):\n",
    "        loss_value = train_step(x_batch_train, y_batch_train)\n",
    "\n",
    "    # Display metrics at the end of each epoch.\n",
    "    train_acc = train_acc_metric.result()\n",
    "    print(\"------------------------------------\")\n",
    "    print(\"Training acc over epoch: %.4f\" % (float(train_acc),))\n",
    "    print(\"------------------------------------\")\n",
    "\n",
    "    # Reset training metrics at the end of each epoch\n",
    "    train_acc_metric.reset_states()\n",
    "\n",
    "    # Run a validation loop at the end of each epoch.\n",
    "    for x_batch_val, y_batch_val in val_dataset:\n",
    "        test_step(x_batch_val, y_batch_val)\n",
    "\n",
    "    val_acc = val_acc_metric.result()\n",
    "    val_acc_metric.reset_states()\n",
    "    print(\"Validation acc: %.4f\" % (float(val_acc),))\n",
    "    print(\"Time taken: %.2fs\" % (time.time() - start_time))\n",
    "    print(\"------------------------------------\")"
   ]
  },
  {
   "cell_type": "code",
   "execution_count": 9,
   "metadata": {},
   "outputs": [
    {
     "name": "stderr",
     "output_type": "stream",
     "text": [
      "WARNING:absl:Found untraced functions such as _update_step_xla, _jit_compiled_convolution_op, _jit_compiled_convolution_op, _jit_compiled_convolution_op, _jit_compiled_convolution_op while saving (showing 5 of 6). These functions will not be directly callable after loading.\n"
     ]
    },
    {
     "name": "stdout",
     "output_type": "stream",
     "text": [
      "INFO:tensorflow:Assets written to: ./models/complete_dim_classifier\\assets\n"
     ]
    },
    {
     "name": "stderr",
     "output_type": "stream",
     "text": [
      "INFO:tensorflow:Assets written to: ./models/complete_dim_classifier\\assets\n"
     ]
    }
   ],
   "source": [
    "classifier.compile()\n",
    "classifier.save(\"./models/complete_dim_classifier\")"
   ]
  },
  {
   "attachments": {},
   "cell_type": "markdown",
   "metadata": {},
   "source": [
    "## Some older results:\n",
    "Here a collection of some older training results:\n",
    "This gives already a good impresson of the influence of DIM to the classifier.\n",
    "\n",
    "The overall accuracy is above that of the comparison model, but for this, the training time has increased by a factor of almost 10.\n",
    "\n",
    "|Standard|Global|Local|Mixed|Complete|\n",
    "|---|---|---|---|---|\n",
    "|![Standard](./standard_classifier_training_results.png)|![Global](./global_classifier_training_results.png)|![Local](./local_classifier_training_results.png)|![Mixed](./mixed_classifier_training_results.png)|![complete](./complete_classifier_training_results.png)|"
   ]
  }
 ],
 "metadata": {
  "kernelspec": {
   "display_name": "ai_venv",
   "language": "python",
   "name": "python3"
  },
  "language_info": {
   "codemirror_mode": {
    "name": "ipython",
    "version": 3
   },
   "file_extension": ".py",
   "mimetype": "text/x-python",
   "name": "python",
   "nbconvert_exporter": "python",
   "pygments_lexer": "ipython3",
   "version": "3.10.1"
  },
  "orig_nbformat": 4
 },
 "nbformat": 4,
 "nbformat_minor": 2
}
